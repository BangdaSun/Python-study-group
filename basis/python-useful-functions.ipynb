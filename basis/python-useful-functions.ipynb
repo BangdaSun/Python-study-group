{
 "cells": [
  {
   "cell_type": "markdown",
   "metadata": {},
   "source": [
    "This is the collection of functions that I think might be useful, which means they could reduce time or release our keyboard :)"
   ]
  },
  {
   "cell_type": "markdown",
   "metadata": {},
   "source": [
    "### 1. Instance type check\n",
    "\n",
    "* `isinstance()`"
   ]
  },
  {
   "cell_type": "code",
   "execution_count": 1,
   "metadata": {},
   "outputs": [
    {
     "name": "stdout",
     "output_type": "stream",
     "text": [
      "True\n",
      "True\n",
      "True\n"
     ]
    }
   ],
   "source": [
    "# I used to be\n",
    "print(type('a') == str)\n",
    "print(type(None) == type(None))\n",
    "print(type([1, 2, 3]) == list)"
   ]
  },
  {
   "cell_type": "code",
   "execution_count": 2,
   "metadata": {},
   "outputs": [
    {
     "name": "stdout",
     "output_type": "stream",
     "text": [
      "True\n",
      "True\n",
      "True\n"
     ]
    }
   ],
   "source": [
    "# these looks better\n",
    "print(isinstance('a', str))\n",
    "print(None is None)\n",
    "print(isinstance([1, 2, 3], list))"
   ]
  },
  {
   "cell_type": "markdown",
   "metadata": {},
   "source": [
    "### 2. Iterate multiple iterable objects (list, etc)\n",
    "\n",
    "* `zip()` for concate objects together"
   ]
  },
  {
   "cell_type": "code",
   "execution_count": 3,
   "metadata": {
    "collapsed": true
   },
   "outputs": [],
   "source": [
    "course_name = ['Probability', 'Inference', 'Linear Regression'\n",
    "              'Stats Computing', 'Stochastic Process']\n",
    "course_code = [5203, 5204, 5205, 5206, 5207]"
   ]
  },
  {
   "cell_type": "code",
   "execution_count": 4,
   "metadata": {},
   "outputs": [
    {
     "name": "stdout",
     "output_type": "stream",
     "text": [
      "5203 :  Probability\n",
      "5204 :  Inference\n",
      "5205 :  Linear RegressionStats Computing\n",
      "5206 :  Stochastic Process\n"
     ]
    }
   ],
   "source": [
    "# other styles\n",
    "for i in range(len(course_name)):\n",
    "    print(course_code[i], ': ', course_name[i])"
   ]
  },
  {
   "cell_type": "code",
   "execution_count": 5,
   "metadata": {},
   "outputs": [
    {
     "name": "stdout",
     "output_type": "stream",
     "text": [
      "5203 :  Probability\n",
      "5204 :  Inference\n",
      "5205 :  Linear RegressionStats Computing\n",
      "5206 :  Stochastic Process\n"
     ]
    }
   ],
   "source": [
    "# use zip() function\n",
    "for name, code in zip(course_name, course_code):\n",
    "    print(code, ': ', name)"
   ]
  },
  {
   "cell_type": "markdown",
   "metadata": {},
   "source": [
    "### 3. Get index and element from single iterable object\n",
    "\n",
    "* `enumerate()` for extracting index from single iterable object"
   ]
  },
  {
   "cell_type": "code",
   "execution_count": 6,
   "metadata": {},
   "outputs": [
    {
     "name": "stdout",
     "output_type": "stream",
     "text": [
      "0 Probability\n",
      "1 Inference\n",
      "2 Linear RegressionStats Computing\n",
      "3 Stochastic Process\n"
     ]
    }
   ],
   "source": [
    "# other styles\n",
    "for i in range(len(course_name)):\n",
    "    print(i, course_name[i])"
   ]
  },
  {
   "cell_type": "code",
   "execution_count": 7,
   "metadata": {},
   "outputs": [
    {
     "name": "stdout",
     "output_type": "stream",
     "text": [
      "0 Probability\n",
      "1 Inference\n",
      "2 Linear RegressionStats Computing\n",
      "3 Stochastic Process\n"
     ]
    }
   ],
   "source": [
    "# use enumerate()\n",
    "for idx, val in enumerate(course_name):\n",
    "    print(idx, val)"
   ]
  },
  {
   "cell_type": "markdown",
   "metadata": {},
   "source": [
    "### 4. Plus one trick\n",
    "* `np.log1p()` and `np.expm1()` for `log(x + 1)` and `exp(x) - 1`. These two functions is learned from kaggle kernels where `+1` is a common trick in many data processing tasks"
   ]
  },
  {
   "cell_type": "code",
   "execution_count": 8,
   "metadata": {},
   "outputs": [
    {
     "data": {
      "text/plain": [
       "(20000000,)"
      ]
     },
     "execution_count": 8,
     "metadata": {},
     "output_type": "execute_result"
    }
   ],
   "source": [
    "import numpy as np\n",
    "X = np.hstack((np.zeros(10000000), np.ones(10000000)))\n",
    "X.shape"
   ]
  },
  {
   "cell_type": "code",
   "execution_count": 9,
   "metadata": {},
   "outputs": [
    {
     "name": "stdout",
     "output_type": "stream",
     "text": [
      "Wall time: 335 ms\n"
     ]
    }
   ],
   "source": [
    "%%time\n",
    "X_log_1 = np.log(X + 1)"
   ]
  },
  {
   "cell_type": "code",
   "execution_count": 10,
   "metadata": {},
   "outputs": [
    {
     "name": "stdout",
     "output_type": "stream",
     "text": [
      "Wall time: 298 ms\n"
     ]
    }
   ],
   "source": [
    "%%time\n",
    "X_log_2 = np.log1p(X)"
   ]
  },
  {
   "cell_type": "code",
   "execution_count": 11,
   "metadata": {},
   "outputs": [
    {
     "data": {
      "text/plain": [
       "True"
      ]
     },
     "execution_count": 11,
     "metadata": {},
     "output_type": "execute_result"
    }
   ],
   "source": [
    "# check all values are equal\n",
    "np.all(X_log_1 == X_log_2)"
   ]
  },
  {
   "cell_type": "code",
   "execution_count": 12,
   "metadata": {},
   "outputs": [
    {
     "name": "stdout",
     "output_type": "stream",
     "text": [
      "Wall time: 274 ms\n"
     ]
    }
   ],
   "source": [
    "%%time\n",
    "X_exp_1 = np.exp(X_log_1) - 1"
   ]
  },
  {
   "cell_type": "code",
   "execution_count": 13,
   "metadata": {},
   "outputs": [
    {
     "name": "stdout",
     "output_type": "stream",
     "text": [
      "Wall time: 246 ms\n"
     ]
    }
   ],
   "source": [
    "%%time\n",
    "X_exp_2 = np.expm1(X_log_2)"
   ]
  },
  {
   "cell_type": "code",
   "execution_count": 14,
   "metadata": {},
   "outputs": [
    {
     "data": {
      "text/plain": [
       "True"
      ]
     },
     "execution_count": 14,
     "metadata": {},
     "output_type": "execute_result"
    }
   ],
   "source": [
    "# check all values are equal\n",
    "np.all(X_exp_1 == X_exp_2)"
   ]
  },
  {
   "cell_type": "markdown",
   "metadata": {},
   "source": [
    "### To be continued... "
   ]
  },
  {
   "cell_type": "code",
   "execution_count": null,
   "metadata": {
    "collapsed": true
   },
   "outputs": [],
   "source": []
  }
 ],
 "metadata": {
  "kernelspec": {
   "display_name": "Python 3",
   "language": "python",
   "name": "python3"
  },
  "language_info": {
   "codemirror_mode": {
    "name": "ipython",
    "version": 3
   },
   "file_extension": ".py",
   "mimetype": "text/x-python",
   "name": "python",
   "nbconvert_exporter": "python",
   "pygments_lexer": "ipython3",
   "version": "3.6.3"
  }
 },
 "nbformat": 4,
 "nbformat_minor": 2
}
