{
 "cells": [
  {
   "cell_type": "markdown",
   "metadata": {},
   "source": [
    "Python `itertools` package - Functions creating **iterators** for efficient looping\n",
    "\n",
    "- https://docs.python.org/3/library/itertools.html\n",
    "- https://medium.com/@jasonrigden/a-guide-to-python-itertools-82e5a306cdf8\n",
    "\n",
    "Compared with using `for` loop to iterate a iterable object, there is no advantages for iterators on speed, also in many cases we won't iterate a huge object. The advantage is it could save more space: for regular list, it cannot store all integers, but for iterators we can iterate to whatever integers we want (as long as it is not out of bound). "
   ]
  },
  {
   "cell_type": "code",
   "execution_count": 1,
   "metadata": {},
   "outputs": [],
   "source": [
    "from itertools import accumulate, combinations, count, cycle, \\\n",
    "                      chain, compress, dropwhile, filterfalse, \\\n",
    "                      groupby, islice, permutations, product, \\\n",
    "                      repeat, starmap, takewhile, tee, zip_longest\n",
    "import operator\n",
    "import numpy as np"
   ]
  },
  {
   "cell_type": "markdown",
   "metadata": {},
   "source": [
    "### 1. `accumulate()`\n",
    "\n",
    "`accumulate(iterable[, func])`. Return accumulated results."
   ]
  },
  {
   "cell_type": "code",
   "execution_count": 2,
   "metadata": {},
   "outputs": [
    {
     "name": "stdout",
     "output_type": "stream",
     "text": [
      "<class 'itertools.accumulate'>\n",
      "1\n",
      "2\n",
      "6\n",
      "24\n",
      "120\n"
     ]
    }
   ],
   "source": [
    "data = [1, 2, 3, 4, 5]\n",
    "accumulate_product = accumulate(data, np.multiply)\n",
    "print(type(accumulate_product))\n",
    "for i in accumulate_product:\n",
    "    print(i)"
   ]
  },
  {
   "cell_type": "code",
   "execution_count": 3,
   "metadata": {},
   "outputs": [
    {
     "name": "stdout",
     "output_type": "stream",
     "text": [
      "<class 'itertools.accumulate'>\n",
      "5\n",
      "5\n",
      "6\n",
      "6\n",
      "6\n",
      "6\n",
      "9\n"
     ]
    }
   ],
   "source": [
    "data = [5, 4, 6, 3, 2, 1, 9]\n",
    "accumulate_max = accumulate(data, max)\n",
    "print(type(accumulate_max))\n",
    "for i in accumulate_max:\n",
    "    print(i)"
   ]
  },
  {
   "cell_type": "markdown",
   "metadata": {},
   "source": [
    "### 2. `combinations()`\n",
    "\n",
    "`combinations(iterable, r)`. This function could create all unique combinations with `r` members. See also `combination_with_replacement()`"
   ]
  },
  {
   "cell_type": "code",
   "execution_count": 4,
   "metadata": {},
   "outputs": [
    {
     "name": "stdout",
     "output_type": "stream",
     "text": [
      "<class 'itertools.combinations'>\n",
      "('ip', 'os')\n",
      "('ip', 'app')\n",
      "('ip', 'device')\n",
      "('ip', 'channel')\n",
      "('os', 'app')\n",
      "('os', 'device')\n",
      "('os', 'channel')\n",
      "('app', 'device')\n",
      "('app', 'channel')\n",
      "('device', 'channel')\n"
     ]
    }
   ],
   "source": [
    "features = ['ip', 'os', 'app', 'device', 'channel']\n",
    "features_2w_comb = combinations(features, 2)\n",
    "print(type(features_2w_comb))\n",
    "for i in features_2w_comb:\n",
    "    print(i)"
   ]
  },
  {
   "cell_type": "markdown",
   "metadata": {},
   "source": [
    "### 3. `count()`\n",
    "\n",
    "`count(start=0, step=1)`. Makes an iteratior that returns evenly spaced values starting with number start."
   ]
  },
  {
   "cell_type": "code",
   "execution_count": 5,
   "metadata": {},
   "outputs": [
    {
     "name": "stdout",
     "output_type": "stream",
     "text": [
      "10\n",
      "13\n",
      "16\n",
      "19\n",
      "22\n"
     ]
    }
   ],
   "source": [
    "for i in count(10, 3):\n",
    "    print(i)\n",
    "    if i > 20:\n",
    "        break"
   ]
  },
  {
   "cell_type": "markdown",
   "metadata": {},
   "source": [
    "### 4. `cycle()`\n",
    "\n",
    "`cycle(iterable)` cycles through an iterator endlessly."
   ]
  },
  {
   "cell_type": "code",
   "execution_count": 6,
   "metadata": {},
   "outputs": [
    {
     "name": "stdout",
     "output_type": "stream",
     "text": [
      "red\n",
      "orange\n",
      "green\n",
      "red\n",
      "orange\n",
      "green\n",
      "red\n",
      "orange\n",
      "green\n",
      "red\n"
     ]
    }
   ],
   "source": [
    "colors = ['red', 'orange', 'green']\n",
    "cnt = 0\n",
    "for color in cycle(colors):\n",
    "    print(color)\n",
    "    cnt += 1\n",
    "    if cnt == 10:\n",
    "        break"
   ]
  },
  {
   "cell_type": "markdown",
   "metadata": {},
   "source": [
    "### 5. `chain()`\n",
    "\n",
    "`chain(*iterables)`. Takes a series of iterables and return them as a long iterable."
   ]
  },
  {
   "cell_type": "code",
   "execution_count": 7,
   "metadata": {},
   "outputs": [
    {
     "name": "stdout",
     "output_type": "stream",
     "text": [
      "red\n",
      "orange\n",
      "yellow\n",
      "circle\n",
      "triangle\n",
      "square\n"
     ]
    }
   ],
   "source": [
    "colors = ['red', 'orange', 'yellow']\n",
    "shapes = ['circle', 'triangle', 'square']\n",
    "chained = chain(colors, shapes)\n",
    "for i in chained:\n",
    "    print(i)"
   ]
  },
  {
   "cell_type": "markdown",
   "metadata": {},
   "source": [
    "### 6. `compress()`\n",
    "\n",
    "Filters one iterable with another."
   ]
  },
  {
   "cell_type": "code",
   "execution_count": 8,
   "metadata": {},
   "outputs": [
    {
     "name": "stdout",
     "output_type": "stream",
     "text": [
      "circle\n",
      "square\n"
     ]
    }
   ],
   "source": [
    "shapes = ['circle', 'triangle', 'square', 'pentagon']\n",
    "selections = [True, False, True, False]\n",
    "result = compress(shapes, selections)\n",
    "for i in result:\n",
    "    print(i)"
   ]
  },
  {
   "cell_type": "markdown",
   "metadata": {},
   "source": [
    "### 7. `dropwhile()`\n",
    "\n",
    "`dropwhile(predicate, iterable)`. Make an iterator that drops elements from the iterable as long as the `predicate` is true; afterward, returns every element."
   ]
  },
  {
   "cell_type": "code",
   "execution_count": 9,
   "metadata": {},
   "outputs": [
    {
     "name": "stdout",
     "output_type": "stream",
     "text": [
      "5\n",
      "6\n",
      "7\n",
      "8\n",
      "9\n",
      "10\n",
      "1\n"
     ]
    }
   ],
   "source": [
    "data = [1, 2, 3, 4, 5, 6, 7, 8, 9, 10, 1]\n",
    "result = dropwhile(lambda x: x < 5, data)\n",
    "\n",
    "# after it encounters an item that > 5, it returns the rest\n",
    "for i in result:\n",
    "    print(i)"
   ]
  },
  {
   "cell_type": "markdown",
   "metadata": {},
   "source": [
    "### 8. `filterfalse()`\n",
    "\n",
    "Makes an iterator that filters elements from iterable returning only those for which the predicate is `False`."
   ]
  },
  {
   "cell_type": "code",
   "execution_count": 10,
   "metadata": {},
   "outputs": [
    {
     "name": "stdout",
     "output_type": "stream",
     "text": [
      "5\n",
      "6\n",
      "7\n",
      "8\n",
      "9\n",
      "10\n"
     ]
    }
   ],
   "source": [
    "data = [1, 2, 3, 4, 5, 6, 7, 8, 9, 10]\n",
    "result = filterfalse(lambda x: x < 5, data)\n",
    "for i in result:\n",
    "    print(i)"
   ]
  },
  {
   "cell_type": "markdown",
   "metadata": {},
   "source": [
    "### 9. `groupby()`\n",
    "\n",
    "Groups things together."
   ]
  },
  {
   "cell_type": "code",
   "execution_count": 11,
   "metadata": {},
   "outputs": [
    {
     "name": "stdout",
     "output_type": "stream",
     "text": [
      "autobot [{'name': 'blaster', 'faction': 'autobot'}]\n",
      "decepticon [{'name': 'galvatron', 'faction': 'decepticon'}]\n",
      "autobot [{'name': 'jazz', 'faction': 'autobot'}, {'name': 'metroplex', 'faction': 'autobot'}]\n",
      "decepticon [{'name': 'megatron', 'faction': 'decepticon'}, {'name': 'starcream', 'faction': 'decepticon'}]\n"
     ]
    }
   ],
   "source": [
    "robots = [{'name': 'blaster', 'faction': 'autobot'},\n",
    "          {'name': 'galvatron', 'faction': 'decepticon'},\n",
    "          {'name': 'jazz', 'faction': 'autobot'},\n",
    "          {'name': 'metroplex', 'faction': 'autobot'},\n",
    "          {'name': 'megatron', 'faction': 'decepticon'},\n",
    "          {'name': 'starcream', 'faction': 'decepticon'}]\n",
    "\n",
    "for key, group in groupby(robots, key=lambda x: x['faction']):\n",
    "    print(key, list(group))"
   ]
  },
  {
   "cell_type": "markdown",
   "metadata": {},
   "source": [
    "### 10. `islice()`\n",
    "\n",
    "`islice(iterable, start, stop[, step])`. This function allows to cut out a piece of an iterable."
   ]
  },
  {
   "cell_type": "code",
   "execution_count": 12,
   "metadata": {},
   "outputs": [
    {
     "name": "stdout",
     "output_type": "stream",
     "text": [
      "yellow\n",
      "green\n"
     ]
    }
   ],
   "source": [
    "colors = ['red', 'orange', 'yellow', 'green', 'blue']\n",
    "few_colors = islice(colors, 2, 4)\n",
    "for i in few_colors:\n",
    "    print(i)"
   ]
  },
  {
   "cell_type": "markdown",
   "metadata": {},
   "source": [
    "### 11. `permutations()`"
   ]
  },
  {
   "cell_type": "code",
   "execution_count": 13,
   "metadata": {},
   "outputs": [
    {
     "name": "stdout",
     "output_type": "stream",
     "text": [
      "('a', 'b', 'c')\n",
      "('a', 'c', 'b')\n",
      "('b', 'a', 'c')\n",
      "('b', 'c', 'a')\n",
      "('c', 'a', 'b')\n",
      "('c', 'b', 'a')\n"
     ]
    }
   ],
   "source": [
    "alpha_data = ['a', 'b', 'c']\n",
    "result = permutations(alpha_data)\n",
    "for i in result:\n",
    "    print(i)"
   ]
  },
  {
   "cell_type": "markdown",
   "metadata": {},
   "source": [
    "### 12. `product()`\n",
    "\n",
    "Create cartesian products from a series of iterables."
   ]
  },
  {
   "cell_type": "code",
   "execution_count": 14,
   "metadata": {},
   "outputs": [
    {
     "name": "stdout",
     "output_type": "stream",
     "text": [
      "(1, 'a')\n",
      "(1, 'b')\n",
      "(1, 'c')\n",
      "(2, 'a')\n",
      "(2, 'b')\n",
      "(2, 'c')\n",
      "(3, 'a')\n",
      "(3, 'b')\n",
      "(3, 'c')\n"
     ]
    }
   ],
   "source": [
    "num = [1, 2, 3]\n",
    "alpha = ['a', 'b', 'c']\n",
    "result = product(num, alpha)\n",
    "for i in result:\n",
    "    print(i)"
   ]
  },
  {
   "cell_type": "markdown",
   "metadata": {},
   "source": [
    "### 13. `repeat()`"
   ]
  },
  {
   "cell_type": "code",
   "execution_count": 15,
   "metadata": {},
   "outputs": [
    {
     "name": "stdout",
     "output_type": "stream",
     "text": [
      "lol\n",
      "lol\n",
      "lol\n",
      "lol\n",
      "lol\n"
     ]
    }
   ],
   "source": [
    "for i in repeat('lol', 5):\n",
    "    print(i)"
   ]
  },
  {
   "cell_type": "markdown",
   "metadata": {},
   "source": [
    "### 14. `starmap()`\n",
    "\n",
    "`starmap(func, iterable)`. Make an iterator that computes the function using arguments obtained from the iterable."
   ]
  },
  {
   "cell_type": "code",
   "execution_count": 16,
   "metadata": {},
   "outputs": [
    {
     "name": "stdout",
     "output_type": "stream",
     "text": [
      "12\n",
      "32\n",
      "21\n"
     ]
    }
   ],
   "source": [
    "data = [(2, 6), (8, 4), (7, 3)]\n",
    "result = starmap(np.multiply, data)\n",
    "for i in result:\n",
    "    print(i)"
   ]
  },
  {
   "cell_type": "markdown",
   "metadata": {},
   "source": [
    "### 15. `takewhile()`\n",
    "\n",
    "This is kind of the opposite of `dropwhile()`"
   ]
  },
  {
   "cell_type": "code",
   "execution_count": 17,
   "metadata": {},
   "outputs": [
    {
     "name": "stdout",
     "output_type": "stream",
     "text": [
      "1\n",
      "2\n",
      "3\n",
      "4\n"
     ]
    }
   ],
   "source": [
    "data = [1, 2, 3, 4, 5, 6, 7, 8, 9, 10, 1]\n",
    "result = takewhile(lambda x: x < 5, data)\n",
    "for i in result:\n",
    "    print(i)"
   ]
  }
 ],
 "metadata": {
  "kernelspec": {
   "display_name": "Python 3",
   "language": "python",
   "name": "python3"
  },
  "language_info": {
   "codemirror_mode": {
    "name": "ipython",
    "version": 3
   },
   "file_extension": ".py",
   "mimetype": "text/x-python",
   "name": "python",
   "nbconvert_exporter": "python",
   "pygments_lexer": "ipython3",
   "version": "3.6.3"
  }
 },
 "nbformat": 4,
 "nbformat_minor": 2
}
