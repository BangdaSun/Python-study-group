{
 "metadata": {
  "name": "",
  "signature": "sha256:3fab971f504814dd0eebd33ad265becffc1ae1d772f384cd5eadb4b0a40d8e1c"
 },
 "nbformat": 3,
 "nbformat_minor": 0,
 "worksheets": [
  {
   "cells": [
    {
     "cell_type": "code",
     "collapsed": false,
     "input": [
      "\"\"\"\n",
      "Exercise 3\n",
      "@author: Bangda Sun, bs2996\n",
      "\"\"\"\n",
      "import numpy as np"
     ],
     "language": "python",
     "metadata": {},
     "outputs": [],
     "prompt_number": 1
    },
    {
     "cell_type": "code",
     "collapsed": false,
     "input": [
      "\"\"\"\n",
      "Problem 1:\n",
      "Create a 2-D array below without typing it in explicitly.\n",
      "[[1, 6, 11],\n",
      "[2, 7, 12],\n",
      "[3, 8, 13],\n",
      "[4, 9, 14],\n",
      "[5, 10, 15]]\n",
      "Hint: Use np.arange and np.reshape\n",
      "\"\"\"\n",
      "x = np.arange(1, 16)\n",
      "x = np.transpose(x.reshape(3, 5))\n",
      "print x"
     ],
     "language": "python",
     "metadata": {},
     "outputs": [
      {
       "output_type": "stream",
       "stream": "stdout",
       "text": [
        "[[ 1  6 11]\n",
        " [ 2  7 12]\n",
        " [ 3  8 13]\n",
        " [ 4  9 14]\n",
        " [ 5 10 15]]\n"
       ]
      }
     ],
     "prompt_number": 2
    },
    {
     "cell_type": "code",
     "collapsed": false,
     "input": [
      "\"\"\"\n",
      "Problem 2 - 1:\n",
      "Create a diagnal matrix array shown below.\n",
      "[ 1., 0., 0.],\n",
      "[ 0., 1., 0.],\n",
      "[ 0., 0., 1.]\n",
      "\"\"\"\n",
      "x = np.eye(3)\n",
      "print x"
     ],
     "language": "python",
     "metadata": {},
     "outputs": [
      {
       "output_type": "stream",
       "stream": "stdout",
       "text": [
        "[[ 1.  0.  0.]\n",
        " [ 0.  1.  0.]\n",
        " [ 0.  0.  1.]]\n"
       ]
      }
     ],
     "prompt_number": 3
    },
    {
     "cell_type": "code",
     "collapsed": false,
     "input": [
      "\"\"\"\n",
      "Problem 2 - 2:\n",
      "Create a diagnal matrix with 1-5 as shown below.\n",
      "[1, 0, 0, 0, 0],\n",
      "[0, 2, 0, 0, 0],\n",
      "[0, 0, 3, 0, 0],\n",
      "[0, 0, 0, 4, 0],\n",
      "[0, 0, 0, 0, 5]\n",
      "\"\"\"\n",
      "x = np.diag(np.arange(1, 6))\n",
      "print x"
     ],
     "language": "python",
     "metadata": {},
     "outputs": [
      {
       "output_type": "stream",
       "stream": "stdout",
       "text": [
        "[[1 0 0 0 0]\n",
        " [0 2 0 0 0]\n",
        " [0 0 3 0 0]\n",
        " [0 0 0 4 0]\n",
        " [0 0 0 0 5]]\n"
       ]
      }
     ],
     "prompt_number": 4
    },
    {
     "cell_type": "code",
     "collapsed": false,
     "input": [
      "\"\"\"\n",
      "Problem 3:\n",
      "Create two arrays\n",
      "x = [1, 2, 4, 1]\n",
      "y = [1, 2, 3]\n",
      "[5, 6, 1]\n",
      "And find the mean of X, median of X, median of Y, and standard dev. of X with 1 less degree of freedom.\n",
      "\"\"\"\n",
      "x = np.array([1, 2, 4, 1])\n",
      "y = np.array([[1, 2, 3], [5, 6, 1]])\n",
      "print \"mean of X: \", x.mean()                  # Or np.mean(x)\n",
      "print \"median of X: \", np.median(x) \n",
      "print \"median of Y: \", np.median(y, axis = -1) \n",
      "print \"standard dev of X: \", x.std(ddof = 1)    # Or np.std(x)"
     ],
     "language": "python",
     "metadata": {},
     "outputs": [
      {
       "output_type": "stream",
       "stream": "stdout",
       "text": [
        "mean of X:  2.0\n",
        "median of X:  1.5\n",
        "median of Y:  [ 2.  5.]\n",
        "standard dev of X:  1.41421356237\n"
       ]
      }
     ],
     "prompt_number": 5
    },
    {
     "cell_type": "code",
     "collapsed": false,
     "input": [
      "\"\"\"\n",
      "Problem 4:\n",
      "Create an 1D array with 15 numbers. (must use NumPy) For all numbers between 3 and 8, make them\n",
      "negative.\n",
      "\"\"\"\n",
      "x = np.random.randint(-8, -2, 15)\n",
      "print x\n",
      "x[(x > 3) & (x <= 8)] *= -1\n",
      "# Alternative method\n",
      "z = np.arange(15)\n",
      "z[(3 < z) & (z <= 8)] *= -1"
     ],
     "language": "python",
     "metadata": {},
     "outputs": [
      {
       "output_type": "stream",
       "stream": "stdout",
       "text": [
        "[-5 -8 -3 -3 -7 -8 -5 -4 -5 -7 -8 -6 -3 -6 -5]\n"
       ]
      }
     ],
     "prompt_number": 6
    },
    {
     "cell_type": "code",
     "collapsed": false,
     "input": [
      "\"\"\"\n",
      "Problem 5:\n",
      "Set the seed as follows before doing this problem:\n",
      "numpy.random.seed(seed=32)\n",
      "\u2022 Create an random array of 10 elements drawn between [0,10] using a uniform distribution.\n",
      "\u2022 Extract the integer parts of the your random array using three methods.\n",
      "One is done for you:\n",
      "# Z is your 10 element array\n",
      "# Z = [ ... ]\n",
      "print (np.trunc(Z))\n",
      "At least one must use NumPy.\n",
      "\"\"\"\n",
      "np.random.seed(seed = 32)\n",
      "z = np.random.random(10) * 10\n",
      "print z\n",
      "print np.array(z, dtype = int)   # z.astype(int)\n",
      "print np.trunc(z)\n",
      "print np.floor(z)\n",
      "print np.ceil(z)\n",
      "print (z - z%1)"
     ],
     "language": "python",
     "metadata": {},
     "outputs": [
      {
       "output_type": "stream",
       "stream": "stdout",
       "text": [
        "[ 8.58889267  3.72711155  5.55128778  9.55656549  7.36669598  8.16205139\n",
        "  1.0108656   9.2848807   6.09109169  5.96553436]\n",
        "[8 3 5 9 7 8 1 9 6 5]\n",
        "[ 8.  3.  5.  9.  7.  8.  1.  9.  6.  5.]\n",
        "[ 8.  3.  5.  9.  7.  8.  1.  9.  6.  5.]\n",
        "[  9.   4.   6.  10.   8.   9.   2.  10.   7.   6.]\n",
        "[ 8.  3.  5.  9.  7.  8.  1.  9.  6.  5.]\n"
       ]
      }
     ],
     "prompt_number": 7
    },
    {
     "cell_type": "code",
     "collapsed": false,
     "input": [
      "\"\"\"\n",
      "Problem 6:\n",
      "\u2022 Create a random 8x2 matrixfrom the continuous uniform distribution.\n",
      "\u2022 Convert them to polar coordinates.\n",
      "\u2022 Print.\n",
      "\"\"\"\n",
      "x = np.random.random((8, 2))\n",
      "r = np.sqrt(x[:, 0]**2 + x[:, 1]**2)\n",
      "print x\n",
      "theta = np.arctan(x[:, 1] / x[:, 0])\n",
      "print np.array([r, theta]).transpose()\n",
      "# Alternative method\n",
      "theta = np.arctan2(x[:, 1], x[:, 0])\n",
      "print theta"
     ],
     "language": "python",
     "metadata": {},
     "outputs": [
      {
       "output_type": "stream",
       "stream": "stdout",
       "text": [
        "[[ 0.09178413  0.34518624]\n",
        " [ 0.66275252  0.44171349]\n",
        " [ 0.55148779  0.70371249]\n",
        " [ 0.58940123  0.04993276]\n",
        " [ 0.56179184  0.76635847]\n",
        " [ 0.91090833  0.09290995]\n",
        " [ 0.90252139  0.46096041]\n",
        " [ 0.45201847  0.99942549]]\n",
        "[[ 0.35718044  1.31091224]\n",
        " [ 0.796462    0.58787565]\n",
        " [ 0.89406378  0.90608403]\n",
        " [ 0.59151255  0.08451596]\n",
        " [ 0.9502186   0.93822093]\n",
        " [ 0.91563434  0.10164552]\n",
        " [ 1.01342457  0.47220847]\n",
        " [ 1.09689197  1.14604937]]\n",
        "[ 1.31091224  0.58787565  0.90608403  0.08451596  0.93822093  0.10164552\n",
        "  0.47220847  1.14604937]\n"
       ]
      }
     ],
     "prompt_number": 8
    },
    {
     "cell_type": "code",
     "collapsed": false,
     "input": [
      "\"\"\"\n",
      "Problem 7:\n",
      "Use seed = 3.\n",
      "numpy.random.seed(seed=3)\n",
      "\u2022 Create a random uniform matrix that is 10x10, ith elements ranging from 0 to 1.\n",
      "\u2022 Compute the rank of the matrix.\n",
      "Hint: Use np.linalg.svd() to get the Singular Value Decomposition.\n",
      "\"\"\"\n",
      "np.random.seed(seed = 3)\n",
      "x = np.random.random((10, 10))\n",
      "x = np.matrix(x)\n",
      "print np.linalg.matrix_rank(x)\n",
      "# Alternative method\n",
      "U, S, V = np.linalg.svd(x)\n",
      "rank = np.sum(S > 1e-10)\n",
      "print rank"
     ],
     "language": "python",
     "metadata": {},
     "outputs": [
      {
       "output_type": "stream",
       "stream": "stdout",
       "text": [
        "10\n",
        "10\n"
       ]
      }
     ],
     "prompt_number": 9
    },
    {
     "cell_type": "code",
     "collapsed": false,
     "input": [
      "\"\"\"\n",
      "Problem 8:\n",
      "Using the following 1D array, (make sure to set seed = 4)\n",
      "K = np.random.randn(100)\n",
      "\u2022 Resample the elements of K with replacement 1000 times.\n",
      "\u2022 Compute the mean of each sample.\n",
      "\u2022 Using each mean compute the 95% confidence interval.\n",
      "\u2022 Print out the confidence interval\n",
      "\"\"\"\n",
      "np.random.seed(seed = 4)\n",
      "K = np.random.randn(100)\n",
      "sample = np.zeros((1000, 100))\n",
      "for i in range(1000):\n",
      "    sample[i] = np.random.choice(K, size = 100, replace = True)\n",
      "\n",
      "mean = np.mean(sample, axis = 0)\n",
      "lower = mean - 1.96 * np.std(sample, axis = 0) / 10 \n",
      "upper = mean + 1.96 * np.std(sample, axis = 0) / 10\n",
      "print np.array([lower, upper]).transpose()\n",
      "# Alternative method\n",
      "idx = np.random.randint(0, K.size, (1000, K.size))\n",
      "means = K[idx].mean(axis = 1)\n",
      "confint = np.percentile(means, [2.5, 97.5])\n",
      "print confint"
     ],
     "language": "python",
     "metadata": {},
     "outputs": [
      {
       "output_type": "stream",
       "stream": "stdout",
       "text": [
        "[[-0.15950294  0.21920873]\n",
        " [-0.14647072  0.24233449]\n",
        " [-0.17731031  0.21061993]\n",
        " [-0.16677519  0.22062263]\n",
        " [-0.11975291  0.24708198]\n",
        " [-0.18790233  0.20336074]\n",
        " [-0.17863294  0.20406608]\n",
        " [-0.14927492  0.22598275]\n",
        " [-0.17236209  0.22347492]\n",
        " [-0.16104518  0.22548139]\n",
        " [-0.20050556  0.18863986]\n",
        " [-0.15919611  0.21569291]\n",
        " [-0.14392995  0.24037743]\n",
        " [-0.19429758  0.18100176]\n",
        " [-0.08797715  0.28814355]\n",
        " [-0.14313781  0.24022535]\n",
        " [-0.15904216  0.22345254]\n",
        " [-0.17232884  0.21594324]\n",
        " [-0.18556462  0.20856075]\n",
        " [-0.18686859  0.19102087]\n",
        " [-0.17445702  0.2148536 ]\n",
        " [-0.12314016  0.26114742]\n",
        " [-0.12390484  0.25795059]\n",
        " [-0.17694493  0.2073658 ]\n",
        " [-0.14351193  0.23752044]\n",
        " [-0.1523296   0.21735807]\n",
        " [-0.11867019  0.25938267]\n",
        " [-0.10212462  0.26970021]\n",
        " [-0.18442154  0.19393743]\n",
        " [-0.09497319  0.27571836]\n",
        " [-0.2017715   0.19045829]\n",
        " [-0.16313132  0.20484102]\n",
        " [-0.10843104  0.28552196]\n",
        " [-0.14694404  0.22842827]\n",
        " [-0.19836709  0.17177015]\n",
        " [-0.21242644  0.18406606]\n",
        " [-0.14177416  0.24888767]\n",
        " [-0.16655578  0.22620675]\n",
        " [-0.15044964  0.23671004]\n",
        " [-0.2068277   0.16481531]\n",
        " [-0.18342604  0.21830514]\n",
        " [-0.16910005  0.20981447]\n",
        " [-0.13008     0.23877569]\n",
        " [-0.18688248  0.19400038]\n",
        " [-0.22058957  0.14995243]\n",
        " [-0.13210575  0.25054454]\n",
        " [-0.16422718  0.20699895]\n",
        " [-0.18783072  0.18819312]\n",
        " [-0.14098444  0.22371968]\n",
        " [-0.18405666  0.19950424]\n",
        " [-0.13007539  0.25144199]\n",
        " [-0.12914749  0.25553437]\n",
        " [-0.13418826  0.24494983]\n",
        " [-0.16614738  0.22487092]\n",
        " [-0.16240567  0.20888684]\n",
        " [-0.15741167  0.20893166]\n",
        " [-0.19217788  0.18879882]\n",
        " [-0.14931176  0.22808726]\n",
        " [-0.13478434  0.25780706]\n",
        " [-0.138966    0.2240613 ]\n",
        " [-0.16896279  0.18979508]\n",
        " [-0.12800386  0.24008393]\n",
        " [-0.1408965   0.25436242]\n",
        " [-0.15031387  0.2373828 ]\n",
        " [-0.09201086  0.27423155]\n",
        " [-0.18093001  0.20917938]\n",
        " [-0.1682579   0.19339668]\n",
        " [-0.17243352  0.22689623]\n",
        " [-0.15758333  0.23296593]\n",
        " [-0.16241925  0.2156304 ]\n",
        " [-0.14759847  0.22765697]\n",
        " [-0.11015319  0.26659139]\n",
        " [-0.11036332  0.25779981]\n",
        " [-0.11191478  0.256097  ]\n",
        " [-0.15225293  0.23563867]\n",
        " [-0.21501062  0.16166322]\n",
        " [-0.14530066  0.22381255]\n",
        " [-0.13122361  0.25774003]\n",
        " [-0.14190135  0.24020202]\n",
        " [-0.08556506  0.29324148]\n",
        " [-0.12789204  0.26141717]\n",
        " [-0.13082802  0.24887352]\n",
        " [-0.23708331  0.14356581]\n",
        " [-0.18956079  0.19329008]\n",
        " [-0.18082592  0.20426693]\n",
        " [-0.13704816  0.23902917]\n",
        " [-0.18891157  0.18758195]\n",
        " [-0.16079035  0.22239259]\n",
        " [-0.19111514  0.19296353]\n",
        " [-0.16221208  0.22987195]\n",
        " [-0.19700842  0.19407461]\n",
        " [-0.13513635  0.25202758]\n",
        " [-0.15500295  0.22504799]\n",
        " [-0.11508922  0.28283845]\n",
        " [-0.11125422  0.26597778]\n",
        " [-0.10103402  0.27091424]\n",
        " [-0.15473055  0.23327442]\n",
        " [-0.18428175  0.20310748]\n",
        " [-0.15155334  0.23277372]\n",
        " [-0.10374127  0.27269155]]\n",
        "[-0.14476334  0.23151219]\n"
       ]
      }
     ],
     "prompt_number": 10
    },
    {
     "cell_type": "code",
     "collapsed": false,
     "input": [],
     "language": "python",
     "metadata": {},
     "outputs": []
    }
   ],
   "metadata": {}
  }
 ]
}
