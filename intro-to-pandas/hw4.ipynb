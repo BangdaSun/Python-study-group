{
 "metadata": {
  "anaconda-cloud": {},
  "kernelspec": {
   "display_name": "Python [default]",
   "language": "python",
   "name": "python3"
  },
  "language_info": {
   "codemirror_mode": {
    "name": "ipython",
    "version": 3
   },
   "file_extension": ".py",
   "mimetype": "text/x-python",
   "name": "python",
   "nbconvert_exporter": "python",
   "pygments_lexer": "ipython3",
   "version": "3.5.2"
  },
  "name": "",
  "signature": "sha256:784b7eb727b4ec1a1a6b5cb8925df271098b8c26fb89299191deeb47dec9b1f1"
 },
 "nbformat": 3,
 "nbformat_minor": 0,
 "worksheets": [
  {
   "cells": [
    {
     "cell_type": "markdown",
     "metadata": {},
     "source": [
      "## Importing pandas\n",
      "\n",
      "### Getting started and checking your pandas setup\n",
      "\n",
      "Difficulty: *easy* \n",
      "\n",
      "**1.** Import pandas under the name `pd`."
     ]
    },
    {
     "cell_type": "code",
     "collapsed": true,
     "input": [
      "import pandas as pd"
     ],
     "language": "python",
     "metadata": {},
     "outputs": [],
     "prompt_number": 1
    },
    {
     "cell_type": "markdown",
     "metadata": {},
     "source": [
      "**2.** Print the version of pandas that has been imported."
     ]
    },
    {
     "cell_type": "code",
     "collapsed": true,
     "input": [
      "pd.__version__"
     ],
     "language": "python",
     "metadata": {},
     "outputs": [
      {
       "metadata": {},
       "output_type": "pyout",
       "prompt_number": 2,
       "text": [
        "'0.16.2'"
       ]
      }
     ],
     "prompt_number": 2
    },
    {
     "cell_type": "markdown",
     "metadata": {},
     "source": [
      "## DataFrame basics\n",
      "\n",
      "### A few of the fundamental routines for selecting, sorting, adding and aggregating data in DataFrames\n",
      "\n",
      "Difficulty: *easy*\n",
      "\n",
      "Note: remember to import numpy using:\n",
      "```python\n",
      "import numpy as np\n",
      "```\n",
      "\n",
      "Consider the following Python dictionary `data` and Python list `labels`:\n",
      "\n",
      "``` python\n",
      "data = {'animal': ['cat', 'cat', 'snake', 'dog', 'dog', 'cat', 'snake', 'cat', 'dog', 'dog'],\n",
      "        'age': [2.5, 3, 0.5, np.nan, 5, 2, 4.5, np.nan, 7, 3],\n",
      "        'visits': [1, 3, 2, 3, 2, 3, 1, 1, 2, 1],\n",
      "        'priority': ['yes', 'yes', 'no', 'yes', 'no', 'no', 'no', 'yes', 'no', 'no']}\n",
      "\n",
      "labels = ['a', 'b', 'c', 'd', 'e', 'f', 'g', 'h', 'i', 'j']\n",
      "```\n",
      "(This is just some meaningless data I made up with the theme of animals and trips to a vet.)\n",
      "\n",
      "**3.** Create a DataFrame `df` from this dictionary `data` which has the index `labels`."
     ]
    },
    {
     "cell_type": "code",
     "collapsed": true,
     "input": [
      "import numpy as np\n",
      "data = {'animal': ['cat', 'cat', 'snake', 'dog', 'dog', 'cat', 'snake', 'cat', 'dog', 'dog'],\n",
      "        'age': [2.5, 3, 0.5, np.nan, 5, 2, 4.5, np.nan, 7, 3],\n",
      "        'visits': [1, 3, 2, 3, 2, 3, 1, 1, 2, 1],\n",
      "        'priority': ['yes', 'yes', 'no', 'yes', 'no', 'no', 'no', 'yes', 'no', 'no']}\n",
      "labels = ['a', 'b', 'c', 'd', 'e', 'f', 'g', 'h', 'i', 'j']\n",
      "df = pd.DataFrame(data, index = labels)\n",
      "df"
     ],
     "language": "python",
     "metadata": {},
     "outputs": [
      {
       "html": [
        "<div style=\"max-width:1500px;overflow:auto;\">\n",
        "<table border=\"1\" class=\"dataframe\">\n",
        "  <thead>\n",
        "    <tr style=\"text-align: right;\">\n",
        "      <th></th>\n",
        "      <th>age</th>\n",
        "      <th>animal</th>\n",
        "      <th>priority</th>\n",
        "      <th>visits</th>\n",
        "    </tr>\n",
        "  </thead>\n",
        "  <tbody>\n",
        "    <tr>\n",
        "      <th>a</th>\n",
        "      <td>2.5</td>\n",
        "      <td>cat</td>\n",
        "      <td>yes</td>\n",
        "      <td>1</td>\n",
        "    </tr>\n",
        "    <tr>\n",
        "      <th>b</th>\n",
        "      <td>3.0</td>\n",
        "      <td>cat</td>\n",
        "      <td>yes</td>\n",
        "      <td>3</td>\n",
        "    </tr>\n",
        "    <tr>\n",
        "      <th>c</th>\n",
        "      <td>0.5</td>\n",
        "      <td>snake</td>\n",
        "      <td>no</td>\n",
        "      <td>2</td>\n",
        "    </tr>\n",
        "    <tr>\n",
        "      <th>d</th>\n",
        "      <td>NaN</td>\n",
        "      <td>dog</td>\n",
        "      <td>yes</td>\n",
        "      <td>3</td>\n",
        "    </tr>\n",
        "    <tr>\n",
        "      <th>e</th>\n",
        "      <td>5.0</td>\n",
        "      <td>dog</td>\n",
        "      <td>no</td>\n",
        "      <td>2</td>\n",
        "    </tr>\n",
        "    <tr>\n",
        "      <th>f</th>\n",
        "      <td>2.0</td>\n",
        "      <td>cat</td>\n",
        "      <td>no</td>\n",
        "      <td>3</td>\n",
        "    </tr>\n",
        "    <tr>\n",
        "      <th>g</th>\n",
        "      <td>4.5</td>\n",
        "      <td>snake</td>\n",
        "      <td>no</td>\n",
        "      <td>1</td>\n",
        "    </tr>\n",
        "    <tr>\n",
        "      <th>h</th>\n",
        "      <td>NaN</td>\n",
        "      <td>cat</td>\n",
        "      <td>yes</td>\n",
        "      <td>1</td>\n",
        "    </tr>\n",
        "    <tr>\n",
        "      <th>i</th>\n",
        "      <td>7.0</td>\n",
        "      <td>dog</td>\n",
        "      <td>no</td>\n",
        "      <td>2</td>\n",
        "    </tr>\n",
        "    <tr>\n",
        "      <th>j</th>\n",
        "      <td>3.0</td>\n",
        "      <td>dog</td>\n",
        "      <td>no</td>\n",
        "      <td>1</td>\n",
        "    </tr>\n",
        "  </tbody>\n",
        "</table>\n",
        "</div>"
       ],
       "metadata": {},
       "output_type": "pyout",
       "prompt_number": 3,
       "text": [
        "   age animal priority  visits\n",
        "a  2.5    cat      yes       1\n",
        "b  3.0    cat      yes       3\n",
        "c  0.5  snake       no       2\n",
        "d  NaN    dog      yes       3\n",
        "e  5.0    dog       no       2\n",
        "f  2.0    cat       no       3\n",
        "g  4.5  snake       no       1\n",
        "h  NaN    cat      yes       1\n",
        "i  7.0    dog       no       2\n",
        "j  3.0    dog       no       1"
       ]
      }
     ],
     "prompt_number": 3
    },
    {
     "cell_type": "markdown",
     "metadata": {},
     "source": [
      "**4.** Display a summary of the basic information about this DataFrame and its data."
     ]
    },
    {
     "cell_type": "code",
     "collapsed": true,
     "input": [
      "df.describe()\n",
      "df.info()"
     ],
     "language": "python",
     "metadata": {},
     "outputs": [
      {
       "output_type": "stream",
       "stream": "stdout",
       "text": [
        "<class 'pandas.core.frame.DataFrame'>\n",
        "Index: 10 entries, a to j\n",
        "Data columns (total 4 columns):\n",
        "age         8 non-null float64\n",
        "animal      10 non-null object\n",
        "priority    10 non-null object\n",
        "visits      10 non-null int64\n",
        "dtypes: float64(1), int64(1), object(2)\n",
        "memory usage: 280.0+ bytes\n"
       ]
      }
     ],
     "prompt_number": 4
    },
    {
     "cell_type": "markdown",
     "metadata": {},
     "source": [
      "**5.** Return the first 3 rows of the DataFrame `df`."
     ]
    },
    {
     "cell_type": "code",
     "collapsed": true,
     "input": [
      "df.iloc[:3, :]"
     ],
     "language": "python",
     "metadata": {},
     "outputs": [
      {
       "html": [
        "<div style=\"max-width:1500px;overflow:auto;\">\n",
        "<table border=\"1\" class=\"dataframe\">\n",
        "  <thead>\n",
        "    <tr style=\"text-align: right;\">\n",
        "      <th></th>\n",
        "      <th>age</th>\n",
        "      <th>animal</th>\n",
        "      <th>priority</th>\n",
        "      <th>visits</th>\n",
        "    </tr>\n",
        "  </thead>\n",
        "  <tbody>\n",
        "    <tr>\n",
        "      <th>a</th>\n",
        "      <td>2.5</td>\n",
        "      <td>cat</td>\n",
        "      <td>yes</td>\n",
        "      <td>1</td>\n",
        "    </tr>\n",
        "    <tr>\n",
        "      <th>b</th>\n",
        "      <td>3.0</td>\n",
        "      <td>cat</td>\n",
        "      <td>yes</td>\n",
        "      <td>3</td>\n",
        "    </tr>\n",
        "    <tr>\n",
        "      <th>c</th>\n",
        "      <td>0.5</td>\n",
        "      <td>snake</td>\n",
        "      <td>no</td>\n",
        "      <td>2</td>\n",
        "    </tr>\n",
        "  </tbody>\n",
        "</table>\n",
        "</div>"
       ],
       "metadata": {},
       "output_type": "pyout",
       "prompt_number": 5,
       "text": [
        "   age animal priority  visits\n",
        "a  2.5    cat      yes       1\n",
        "b  3.0    cat      yes       3\n",
        "c  0.5  snake       no       2"
       ]
      }
     ],
     "prompt_number": 5
    },
    {
     "cell_type": "markdown",
     "metadata": {},
     "source": [
      "**6.** Select just the 'animal' and 'age' columns from the DataFrame `df`."
     ]
    },
    {
     "cell_type": "code",
     "collapsed": true,
     "input": [
      "df[['animal', 'age']]"
     ],
     "language": "python",
     "metadata": {},
     "outputs": [
      {
       "html": [
        "<div style=\"max-width:1500px;overflow:auto;\">\n",
        "<table border=\"1\" class=\"dataframe\">\n",
        "  <thead>\n",
        "    <tr style=\"text-align: right;\">\n",
        "      <th></th>\n",
        "      <th>animal</th>\n",
        "      <th>age</th>\n",
        "    </tr>\n",
        "  </thead>\n",
        "  <tbody>\n",
        "    <tr>\n",
        "      <th>a</th>\n",
        "      <td>cat</td>\n",
        "      <td>2.5</td>\n",
        "    </tr>\n",
        "    <tr>\n",
        "      <th>b</th>\n",
        "      <td>cat</td>\n",
        "      <td>3.0</td>\n",
        "    </tr>\n",
        "    <tr>\n",
        "      <th>c</th>\n",
        "      <td>snake</td>\n",
        "      <td>0.5</td>\n",
        "    </tr>\n",
        "    <tr>\n",
        "      <th>d</th>\n",
        "      <td>dog</td>\n",
        "      <td>NaN</td>\n",
        "    </tr>\n",
        "    <tr>\n",
        "      <th>e</th>\n",
        "      <td>dog</td>\n",
        "      <td>5.0</td>\n",
        "    </tr>\n",
        "    <tr>\n",
        "      <th>f</th>\n",
        "      <td>cat</td>\n",
        "      <td>2.0</td>\n",
        "    </tr>\n",
        "    <tr>\n",
        "      <th>g</th>\n",
        "      <td>snake</td>\n",
        "      <td>4.5</td>\n",
        "    </tr>\n",
        "    <tr>\n",
        "      <th>h</th>\n",
        "      <td>cat</td>\n",
        "      <td>NaN</td>\n",
        "    </tr>\n",
        "    <tr>\n",
        "      <th>i</th>\n",
        "      <td>dog</td>\n",
        "      <td>7.0</td>\n",
        "    </tr>\n",
        "    <tr>\n",
        "      <th>j</th>\n",
        "      <td>dog</td>\n",
        "      <td>3.0</td>\n",
        "    </tr>\n",
        "  </tbody>\n",
        "</table>\n",
        "</div>"
       ],
       "metadata": {},
       "output_type": "pyout",
       "prompt_number": 6,
       "text": [
        "  animal  age\n",
        "a    cat  2.5\n",
        "b    cat  3.0\n",
        "c  snake  0.5\n",
        "d    dog  NaN\n",
        "e    dog  5.0\n",
        "f    cat  2.0\n",
        "g  snake  4.5\n",
        "h    cat  NaN\n",
        "i    dog  7.0\n",
        "j    dog  3.0"
       ]
      }
     ],
     "prompt_number": 6
    },
    {
     "cell_type": "markdown",
     "metadata": {},
     "source": [
      "**7.** Select the rows where the age is missing, i.e. is `NaN`."
     ]
    },
    {
     "cell_type": "code",
     "collapsed": true,
     "input": [
      "df[df.age.isnull()]"
     ],
     "language": "python",
     "metadata": {},
     "outputs": [
      {
       "html": [
        "<div style=\"max-width:1500px;overflow:auto;\">\n",
        "<table border=\"1\" class=\"dataframe\">\n",
        "  <thead>\n",
        "    <tr style=\"text-align: right;\">\n",
        "      <th></th>\n",
        "      <th>age</th>\n",
        "      <th>animal</th>\n",
        "      <th>priority</th>\n",
        "      <th>visits</th>\n",
        "    </tr>\n",
        "  </thead>\n",
        "  <tbody>\n",
        "    <tr>\n",
        "      <th>d</th>\n",
        "      <td>NaN</td>\n",
        "      <td>dog</td>\n",
        "      <td>yes</td>\n",
        "      <td>3</td>\n",
        "    </tr>\n",
        "    <tr>\n",
        "      <th>h</th>\n",
        "      <td>NaN</td>\n",
        "      <td>cat</td>\n",
        "      <td>yes</td>\n",
        "      <td>1</td>\n",
        "    </tr>\n",
        "  </tbody>\n",
        "</table>\n",
        "</div>"
       ],
       "metadata": {},
       "output_type": "pyout",
       "prompt_number": 7,
       "text": [
        "   age animal priority  visits\n",
        "d  NaN    dog      yes       3\n",
        "h  NaN    cat      yes       1"
       ]
      }
     ],
     "prompt_number": 7
    },
    {
     "cell_type": "markdown",
     "metadata": {},
     "source": [
      "**8.** Sort `df` first by the values in the 'age' in *decending* order, then by the value in the 'visit' column in *ascending* order."
     ]
    },
    {
     "cell_type": "code",
     "collapsed": true,
     "input": [
      "df.sort(['age', 'visits'], ascending = [0, 1])"
     ],
     "language": "python",
     "metadata": {},
     "outputs": [
      {
       "html": [
        "<div style=\"max-width:1500px;overflow:auto;\">\n",
        "<table border=\"1\" class=\"dataframe\">\n",
        "  <thead>\n",
        "    <tr style=\"text-align: right;\">\n",
        "      <th></th>\n",
        "      <th>age</th>\n",
        "      <th>animal</th>\n",
        "      <th>priority</th>\n",
        "      <th>visits</th>\n",
        "    </tr>\n",
        "  </thead>\n",
        "  <tbody>\n",
        "    <tr>\n",
        "      <th>i</th>\n",
        "      <td>7.0</td>\n",
        "      <td>dog</td>\n",
        "      <td>no</td>\n",
        "      <td>2</td>\n",
        "    </tr>\n",
        "    <tr>\n",
        "      <th>e</th>\n",
        "      <td>5.0</td>\n",
        "      <td>dog</td>\n",
        "      <td>no</td>\n",
        "      <td>2</td>\n",
        "    </tr>\n",
        "    <tr>\n",
        "      <th>g</th>\n",
        "      <td>4.5</td>\n",
        "      <td>snake</td>\n",
        "      <td>no</td>\n",
        "      <td>1</td>\n",
        "    </tr>\n",
        "    <tr>\n",
        "      <th>j</th>\n",
        "      <td>3.0</td>\n",
        "      <td>dog</td>\n",
        "      <td>no</td>\n",
        "      <td>1</td>\n",
        "    </tr>\n",
        "    <tr>\n",
        "      <th>b</th>\n",
        "      <td>3.0</td>\n",
        "      <td>cat</td>\n",
        "      <td>yes</td>\n",
        "      <td>3</td>\n",
        "    </tr>\n",
        "    <tr>\n",
        "      <th>a</th>\n",
        "      <td>2.5</td>\n",
        "      <td>cat</td>\n",
        "      <td>yes</td>\n",
        "      <td>1</td>\n",
        "    </tr>\n",
        "    <tr>\n",
        "      <th>f</th>\n",
        "      <td>2.0</td>\n",
        "      <td>cat</td>\n",
        "      <td>no</td>\n",
        "      <td>3</td>\n",
        "    </tr>\n",
        "    <tr>\n",
        "      <th>c</th>\n",
        "      <td>0.5</td>\n",
        "      <td>snake</td>\n",
        "      <td>no</td>\n",
        "      <td>2</td>\n",
        "    </tr>\n",
        "    <tr>\n",
        "      <th>h</th>\n",
        "      <td>NaN</td>\n",
        "      <td>cat</td>\n",
        "      <td>yes</td>\n",
        "      <td>1</td>\n",
        "    </tr>\n",
        "    <tr>\n",
        "      <th>d</th>\n",
        "      <td>NaN</td>\n",
        "      <td>dog</td>\n",
        "      <td>yes</td>\n",
        "      <td>3</td>\n",
        "    </tr>\n",
        "  </tbody>\n",
        "</table>\n",
        "</div>"
       ],
       "metadata": {},
       "output_type": "pyout",
       "prompt_number": 8,
       "text": [
        "   age animal priority  visits\n",
        "i  7.0    dog       no       2\n",
        "e  5.0    dog       no       2\n",
        "g  4.5  snake       no       1\n",
        "j  3.0    dog       no       1\n",
        "b  3.0    cat      yes       3\n",
        "a  2.5    cat      yes       1\n",
        "f  2.0    cat       no       3\n",
        "c  0.5  snake       no       2\n",
        "h  NaN    cat      yes       1\n",
        "d  NaN    dog      yes       3"
       ]
      }
     ],
     "prompt_number": 8
    },
    {
     "cell_type": "markdown",
     "metadata": {},
     "source": [
      "**9.** For each animal type and each number of visits, find the mean age. In other words, each row is an animal, each column is a number of visits and the values are the mean ages (hint: use a pivot table)."
     ]
    },
    {
     "cell_type": "code",
     "collapsed": true,
     "input": [
      "df.groupby('animal')[['visits', 'age']].mean()"
     ],
     "language": "python",
     "metadata": {},
     "outputs": [
      {
       "html": [
        "<div style=\"max-width:1500px;overflow:auto;\">\n",
        "<table border=\"1\" class=\"dataframe\">\n",
        "  <thead>\n",
        "    <tr style=\"text-align: right;\">\n",
        "      <th></th>\n",
        "      <th>visits</th>\n",
        "      <th>age</th>\n",
        "    </tr>\n",
        "    <tr>\n",
        "      <th>animal</th>\n",
        "      <th></th>\n",
        "      <th></th>\n",
        "    </tr>\n",
        "  </thead>\n",
        "  <tbody>\n",
        "    <tr>\n",
        "      <th>cat</th>\n",
        "      <td>2.0</td>\n",
        "      <td>2.5</td>\n",
        "    </tr>\n",
        "    <tr>\n",
        "      <th>dog</th>\n",
        "      <td>2.0</td>\n",
        "      <td>5.0</td>\n",
        "    </tr>\n",
        "    <tr>\n",
        "      <th>snake</th>\n",
        "      <td>1.5</td>\n",
        "      <td>2.5</td>\n",
        "    </tr>\n",
        "  </tbody>\n",
        "</table>\n",
        "</div>"
       ],
       "metadata": {},
       "output_type": "pyout",
       "prompt_number": 9,
       "text": [
        "        visits  age\n",
        "animal             \n",
        "cat        2.0  2.5\n",
        "dog        2.0  5.0\n",
        "snake      1.5  2.5"
       ]
      }
     ],
     "prompt_number": 9
    },
    {
     "cell_type": "markdown",
     "metadata": {},
     "source": [
      "## DataFrames: beyond the basics\n",
      "\n",
      "### Slightly trickier: you may need to combine two or more methods to get the right answer\n",
      "\n",
      "Difficulty: *medium*\n",
      "\n",
      "The previous section was tour through some basic but essential DataFrame operations. Below are some ways that you might need to cut your data, but for which there is no single \"out of the box\" method."
     ]
    },
    {
     "cell_type": "markdown",
     "metadata": {},
     "source": [
      "**10.** You have a DataFrame `df` with a column 'A' of integers. For example:\n",
      "```python\n",
      "df = pd.DataFrame({'A': [1, 2, 2, 3, 4, 5, 5, 5, 6, 7, 7]})\n",
      "```\n",
      "\n",
      "How do you filter out rows which contain the same integer as the row immediately above?"
     ]
    },
    {
     "cell_type": "code",
     "collapsed": true,
     "input": [
      "df = pd.DataFrame({'A': [1, 2, 2, 3, 4, 5, 5, 5, 6, 7, 7]})\n",
      "pd.unique(df['A'])"
     ],
     "language": "python",
     "metadata": {},
     "outputs": [
      {
       "metadata": {},
       "output_type": "pyout",
       "prompt_number": 10,
       "text": [
        "array([1, 2, 3, 4, 5, 6, 7], dtype=int64)"
       ]
      }
     ],
     "prompt_number": 10
    },
    {
     "cell_type": "markdown",
     "metadata": {},
     "source": [
      "**11.** Given a DataFrame of numeric values, say\n",
      "```python\n",
      "df = pd.DataFrame(np.random.random(size=(5, 3))) # a 5x3 frame of float values\n",
      "```\n",
      "\n",
      "how do you subtract the row mean from each element in the row?"
     ]
    },
    {
     "cell_type": "code",
     "collapsed": true,
     "input": [
      "df = pd.DataFrame(np.random.random(size = (5, 3)))\n",
      "df_mean = df.mean(axis = 0)\n",
      "df - df_mean"
     ],
     "language": "python",
     "metadata": {},
     "outputs": [
      {
       "html": [
        "<div style=\"max-width:1500px;overflow:auto;\">\n",
        "<table border=\"1\" class=\"dataframe\">\n",
        "  <thead>\n",
        "    <tr style=\"text-align: right;\">\n",
        "      <th></th>\n",
        "      <th>0</th>\n",
        "      <th>1</th>\n",
        "      <th>2</th>\n",
        "    </tr>\n",
        "  </thead>\n",
        "  <tbody>\n",
        "    <tr>\n",
        "      <th>0</th>\n",
        "      <td>-0.346615</td>\n",
        "      <td>0.413156</td>\n",
        "      <td>0.279122</td>\n",
        "    </tr>\n",
        "    <tr>\n",
        "      <th>1</th>\n",
        "      <td>0.388893</td>\n",
        "      <td>0.223080</td>\n",
        "      <td>-0.106730</td>\n",
        "    </tr>\n",
        "    <tr>\n",
        "      <th>2</th>\n",
        "      <td>-0.381513</td>\n",
        "      <td>0.081826</td>\n",
        "      <td>0.302447</td>\n",
        "    </tr>\n",
        "    <tr>\n",
        "      <th>3</th>\n",
        "      <td>0.057086</td>\n",
        "      <td>-0.400862</td>\n",
        "      <td>-0.403039</td>\n",
        "    </tr>\n",
        "    <tr>\n",
        "      <th>4</th>\n",
        "      <td>0.282150</td>\n",
        "      <td>-0.317200</td>\n",
        "      <td>-0.071799</td>\n",
        "    </tr>\n",
        "  </tbody>\n",
        "</table>\n",
        "</div>"
       ],
       "metadata": {},
       "output_type": "pyout",
       "prompt_number": 11,
       "text": [
        "          0         1         2\n",
        "0 -0.346615  0.413156  0.279122\n",
        "1  0.388893  0.223080 -0.106730\n",
        "2 -0.381513  0.081826  0.302447\n",
        "3  0.057086 -0.400862 -0.403039\n",
        "4  0.282150 -0.317200 -0.071799"
       ]
      }
     ],
     "prompt_number": 11
    },
    {
     "cell_type": "markdown",
     "metadata": {},
     "source": [
      "**12.** Suppose you have DataFrame with 10 columns of real numbers, for example:\n",
      "\n",
      "```python\n",
      "df = pd.DataFrame(np.random.random(size=(5, 10)), columns=list('abcdefghij'))\n",
      "```\n",
      "Which column of numbers has the smallest sum? (Find that column's label.)"
     ]
    },
    {
     "cell_type": "code",
     "collapsed": true,
     "input": [
      "df = pd.DataFrame(np.random.random(size = (5, 10)), columns = list('abcdefghij'))\n",
      "np.argmin(df.sum(axis = 0))"
     ],
     "language": "python",
     "metadata": {},
     "outputs": [
      {
       "metadata": {},
       "output_type": "pyout",
       "prompt_number": 12,
       "text": [
        "'d'"
       ]
      }
     ],
     "prompt_number": 12
    },
    {
     "cell_type": "markdown",
     "metadata": {},
     "source": [
      "## Series and DatetimeIndex\n",
      "\n",
      "### Exercises for creating and manipulating Series with datetime data\n",
      "\n",
      "Difficulty: *easy/medium*\n",
      "\n",
      "pandas is fantastic for working with dates and times. These puzzles explore some of this functionality.\n"
     ]
    },
    {
     "cell_type": "markdown",
     "metadata": {},
     "source": [
      "**13.** Create a DatetimeIndex that contains each business day of 2015 and use it to index a Series of random numbers. Let's call this Series `s`."
     ]
    },
    {
     "cell_type": "code",
     "collapsed": true,
     "input": [
      "bday = pd.Index(pd.bdate_range('2015-01-01', '2015-12-31'))\n",
      "random_number = np.random.random(len(bday))\n",
      "s = pd.Series(random_number, index = bday)\n",
      "s.head()"
     ],
     "language": "python",
     "metadata": {},
     "outputs": [
      {
       "metadata": {},
       "output_type": "pyout",
       "prompt_number": 13,
       "text": [
        "2015-01-01    0.964625\n",
        "2015-01-02    0.224270\n",
        "2015-01-05    0.352073\n",
        "2015-01-06    0.206497\n",
        "2015-01-07    0.704901\n",
        "Freq: B, dtype: float64"
       ]
      }
     ],
     "prompt_number": 13
    },
    {
     "cell_type": "markdown",
     "metadata": {},
     "source": [
      "14. For each group of four consecutive calendar months in `s`, find the date on which the highest value occurred."
     ]
    },
    {
     "cell_type": "code",
     "collapsed": true,
     "input": [
      "s.groupby(pd.TimeGrouper('4M')).idxmax()"
     ],
     "language": "python",
     "metadata": {},
     "outputs": [
      {
       "metadata": {},
       "output_type": "pyout",
       "prompt_number": 14,
       "text": [
        "2015-01-31   2015-01-23\n",
        "2015-05-31   2015-02-13\n",
        "2015-09-30   2015-06-12\n",
        "2016-01-31   2015-12-10\n",
        "dtype: datetime64[ns]"
       ]
      }
     ],
     "prompt_number": 14
    },
    {
     "cell_type": "markdown",
     "metadata": {},
     "source": [
      "**15.** Create a DateTimeIndex consisting of the third Thursday in each month for the years 2015 and 2016."
     ]
    },
    {
     "cell_type": "code",
     "collapsed": true,
     "input": [
      "all_day = pd.Index(pd.date_range('20150101', '20161231', freq = 'WOM-3THU'))\n",
      "all_day"
     ],
     "language": "python",
     "metadata": {},
     "outputs": [
      {
       "metadata": {},
       "output_type": "pyout",
       "prompt_number": 15,
       "text": [
        "DatetimeIndex(['2015-01-15', '2015-02-19', '2015-03-19', '2015-04-16',\n",
        "               '2015-05-21', '2015-06-18', '2015-07-16', '2015-08-20',\n",
        "               '2015-09-17', '2015-10-15', '2015-11-19', '2015-12-17',\n",
        "               '2016-01-21', '2016-02-18', '2016-03-17', '2016-04-21',\n",
        "               '2016-05-19', '2016-06-16', '2016-07-21', '2016-08-18',\n",
        "               '2016-09-15', '2016-10-20', '2016-11-17', '2016-12-15'],\n",
        "              dtype='datetime64[ns]', freq='WOM-3THU', tz=None)"
       ]
      }
     ],
     "prompt_number": 15
    },
    {
     "cell_type": "markdown",
     "metadata": {},
     "source": [
      "## Cleaning Data\n",
      "\n",
      "### Making a DataFrame easier to work with\n",
      "\n",
      "Difficulty: *easy/medium*\n",
      "\n",
      "It happens all the time: someone gives you data containing malformed strings, Python, lists and missing data. How do you tidy it up so you can get on with the analysis?\n",
      "\n",
      "Take this monstrosity as the DataFrame to use in the following puzzles:\n",
      "\n",
      "```python\n",
      "df = pd.DataFrame({'From_To': ['LoNDon_paris', 'MAdrid_miLAN', 'londON_StockhOlm', \n",
      "                               'Budapest_PaRis', 'Brussels_londOn'],\n",
      "              'FlightNumber': [10045, np.nan, 10065, np.nan, 10085],\n",
      "              'RecentDelays': [[23, 47], [], [24, 43, 87], [13], [67, 32]],\n",
      "                   'Airline': ['KLM(!)', '<Air France> (12)', '(British Airways. )', \n",
      "                               '12. Air France', '\"Swiss Air\"']})\n",
      "```\n",
      "(It's some flight data I made up; it's not meant to be accurate in any way.)\n"
     ]
    },
    {
     "cell_type": "markdown",
     "metadata": {},
     "source": [
      "**16.** Some values in the the FlightNumber column are missing. These numbers are meant to increase by 10 with each row so 10055 and 10075 need to be put in place. Fill in these missing numbers and make the column an integer column (instead of a float column)."
     ]
    },
    {
     "cell_type": "code",
     "collapsed": false,
     "input": [
      "df = pd.DataFrame({'From_To': ['LoNDon_paris', 'MAdrid_miLAN', 'londON_StockhOlm', \n",
      "                               'Budapest_PaRis', 'Brussels_londOn'],\n",
      "              'FlightNumber': [10045, np.nan, 10065, np.nan, 10085],\n",
      "              'RecentDelays': [[23, 47], [], [24, 43, 87], [13], [67, 32]],\n",
      "                   'Airline': ['KLM(!)', '<Air France> (12)', '(British Airways. )', \n",
      "                               '12. Air France', '\"Swiss Air\"']})\n",
      "df['FlightNumber'] = df['FlightNumber'].interpolate().astype(int)\n",
      "df"
     ],
     "language": "python",
     "metadata": {},
     "outputs": [
      {
       "html": [
        "<div style=\"max-width:1500px;overflow:auto;\">\n",
        "<table border=\"1\" class=\"dataframe\">\n",
        "  <thead>\n",
        "    <tr style=\"text-align: right;\">\n",
        "      <th></th>\n",
        "      <th>Airline</th>\n",
        "      <th>FlightNumber</th>\n",
        "      <th>From_To</th>\n",
        "      <th>RecentDelays</th>\n",
        "    </tr>\n",
        "  </thead>\n",
        "  <tbody>\n",
        "    <tr>\n",
        "      <th>0</th>\n",
        "      <td>KLM(!)</td>\n",
        "      <td>10045</td>\n",
        "      <td>LoNDon_paris</td>\n",
        "      <td>[23, 47]</td>\n",
        "    </tr>\n",
        "    <tr>\n",
        "      <th>1</th>\n",
        "      <td>&lt;Air France&gt; (12)</td>\n",
        "      <td>10055</td>\n",
        "      <td>MAdrid_miLAN</td>\n",
        "      <td>[]</td>\n",
        "    </tr>\n",
        "    <tr>\n",
        "      <th>2</th>\n",
        "      <td>(British Airways. )</td>\n",
        "      <td>10065</td>\n",
        "      <td>londON_StockhOlm</td>\n",
        "      <td>[24, 43, 87]</td>\n",
        "    </tr>\n",
        "    <tr>\n",
        "      <th>3</th>\n",
        "      <td>12. Air France</td>\n",
        "      <td>10075</td>\n",
        "      <td>Budapest_PaRis</td>\n",
        "      <td>[13]</td>\n",
        "    </tr>\n",
        "    <tr>\n",
        "      <th>4</th>\n",
        "      <td>\"Swiss Air\"</td>\n",
        "      <td>10085</td>\n",
        "      <td>Brussels_londOn</td>\n",
        "      <td>[67, 32]</td>\n",
        "    </tr>\n",
        "  </tbody>\n",
        "</table>\n",
        "</div>"
       ],
       "metadata": {},
       "output_type": "pyout",
       "prompt_number": 16,
       "text": [
        "               Airline  FlightNumber           From_To  RecentDelays\n",
        "0               KLM(!)         10045      LoNDon_paris      [23, 47]\n",
        "1    <Air France> (12)         10055      MAdrid_miLAN            []\n",
        "2  (British Airways. )         10065  londON_StockhOlm  [24, 43, 87]\n",
        "3       12. Air France         10075    Budapest_PaRis          [13]\n",
        "4          \"Swiss Air\"         10085   Brussels_londOn      [67, 32]"
       ]
      }
     ],
     "prompt_number": 16
    },
    {
     "cell_type": "markdown",
     "metadata": {},
     "source": [
      "**17.** The From\\_To column would be better as two separate columns! Split each string on the underscore delimiter `_` to give a new temporary DataFrame with the correct values. Assign the correct column names to this temporary DataFrame. "
     ]
    },
    {
     "cell_type": "code",
     "collapsed": false,
     "input": [
      "temp_df = df['From_To'].str.split('_', expand = True)\n",
      "temp_df.columns = ['From', 'To']\n",
      "temp_df"
     ],
     "language": "python",
     "metadata": {},
     "outputs": [
      {
       "html": [
        "<div style=\"max-width:1500px;overflow:auto;\">\n",
        "<table border=\"1\" class=\"dataframe\">\n",
        "  <thead>\n",
        "    <tr style=\"text-align: right;\">\n",
        "      <th></th>\n",
        "      <th>From</th>\n",
        "      <th>To</th>\n",
        "    </tr>\n",
        "  </thead>\n",
        "  <tbody>\n",
        "    <tr>\n",
        "      <th>0</th>\n",
        "      <td>LoNDon</td>\n",
        "      <td>paris</td>\n",
        "    </tr>\n",
        "    <tr>\n",
        "      <th>1</th>\n",
        "      <td>MAdrid</td>\n",
        "      <td>miLAN</td>\n",
        "    </tr>\n",
        "    <tr>\n",
        "      <th>2</th>\n",
        "      <td>londON</td>\n",
        "      <td>StockhOlm</td>\n",
        "    </tr>\n",
        "    <tr>\n",
        "      <th>3</th>\n",
        "      <td>Budapest</td>\n",
        "      <td>PaRis</td>\n",
        "    </tr>\n",
        "    <tr>\n",
        "      <th>4</th>\n",
        "      <td>Brussels</td>\n",
        "      <td>londOn</td>\n",
        "    </tr>\n",
        "  </tbody>\n",
        "</table>\n",
        "</div>"
       ],
       "metadata": {},
       "output_type": "pyout",
       "prompt_number": 17,
       "text": [
        "       From         To\n",
        "0    LoNDon      paris\n",
        "1    MAdrid      miLAN\n",
        "2    londON  StockhOlm\n",
        "3  Budapest      PaRis\n",
        "4  Brussels     londOn"
       ]
      }
     ],
     "prompt_number": 17
    },
    {
     "cell_type": "markdown",
     "metadata": {},
     "source": [
      "**18.** Notice how the capitalisation of the city names is all mixed up in this temporary DataFrame. Standardise the strings so that only the first letter is uppercase (e.g. \"londON\" should become \"London\".)"
     ]
    },
    {
     "cell_type": "code",
     "collapsed": false,
     "input": [
      "temp_df['From'] = temp_df['From'].str.capitalize()\n",
      "temp_df['To'] = temp_df['To'].str.capitalize()\n",
      "temp_df"
     ],
     "language": "python",
     "metadata": {},
     "outputs": [
      {
       "html": [
        "<div style=\"max-width:1500px;overflow:auto;\">\n",
        "<table border=\"1\" class=\"dataframe\">\n",
        "  <thead>\n",
        "    <tr style=\"text-align: right;\">\n",
        "      <th></th>\n",
        "      <th>From</th>\n",
        "      <th>To</th>\n",
        "    </tr>\n",
        "  </thead>\n",
        "  <tbody>\n",
        "    <tr>\n",
        "      <th>0</th>\n",
        "      <td>London</td>\n",
        "      <td>Paris</td>\n",
        "    </tr>\n",
        "    <tr>\n",
        "      <th>1</th>\n",
        "      <td>Madrid</td>\n",
        "      <td>Milan</td>\n",
        "    </tr>\n",
        "    <tr>\n",
        "      <th>2</th>\n",
        "      <td>London</td>\n",
        "      <td>Stockholm</td>\n",
        "    </tr>\n",
        "    <tr>\n",
        "      <th>3</th>\n",
        "      <td>Budapest</td>\n",
        "      <td>Paris</td>\n",
        "    </tr>\n",
        "    <tr>\n",
        "      <th>4</th>\n",
        "      <td>Brussels</td>\n",
        "      <td>London</td>\n",
        "    </tr>\n",
        "  </tbody>\n",
        "</table>\n",
        "</div>"
       ],
       "metadata": {},
       "output_type": "pyout",
       "prompt_number": 18,
       "text": [
        "       From         To\n",
        "0    London      Paris\n",
        "1    Madrid      Milan\n",
        "2    London  Stockholm\n",
        "3  Budapest      Paris\n",
        "4  Brussels     London"
       ]
      }
     ],
     "prompt_number": 18
    }
   ],
   "metadata": {}
  }
 ]
}
