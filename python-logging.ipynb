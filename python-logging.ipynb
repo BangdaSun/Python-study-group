{
 "cells": [
  {
   "cell_type": "markdown",
   "metadata": {},
   "source": [
    "Python `logging` package - package about logging in programming\n",
    "\n",
    "- https://www.jianshu.com/p/feb86c06c4f4\n",
    "\n",
    "One practical example:\n",
    "\n",
    "- https://github.com/ChenglongChen/tensorflow-XNN/blob/0cc0d418e27aa3e4145db29d14ac042b10423d86/code/utils.py\n",
    "- https://github.com/ChenglongChen/tensorflow-XNN/blob/0cc0d418e27aa3e4145db29d14ac042b10423d86/code/xnn.py\n",
    "- https://github.com/ChenglongChen/tensorflow-XNN/blob/0cc0d418e27aa3e4145db29d14ac042b10423d86/code/main.py"
   ]
  },
  {
   "cell_type": "code",
   "execution_count": 1,
   "metadata": {},
   "outputs": [
    {
     "name": "stderr",
     "output_type": "stream",
     "text": [
      "C:\\Users\\Bangda\\Anaconda3\\lib\\site-packages\\ipykernel_launcher.py:5: DeprecationWarning: The 'warn' function is deprecated, use 'warning' instead\n",
      "  \"\"\"\n",
      "WARNING:root:warn message\n",
      "ERROR:root:error message\n",
      "CRITICAL:root:critial message\n"
     ]
    }
   ],
   "source": [
    "import logging\n",
    "\n",
    "# level higher than WARNNING will be printed\n",
    "# format: level:logger-instance-name:message\n",
    "logging.debug('debug message')\n",
    "logging.info('info message')\n",
    "logging.warn('warn message')\n",
    "logging.error('error message')\n",
    "logging.critical('critial message')"
   ]
  },
  {
   "cell_type": "markdown",
   "metadata": {},
   "source": [
    "### 1. Simple Configuration"
   ]
  },
  {
   "cell_type": "code",
   "execution_count": 2,
   "metadata": {},
   "outputs": [
    {
     "name": "stderr",
     "output_type": "stream",
     "text": [
      "C:\\Users\\Bangda\\Anaconda3\\lib\\site-packages\\ipykernel_launcher.py:5: DeprecationWarning: The 'warn' function is deprecated, use 'warning' instead\n",
      "  \"\"\"\n"
     ]
    }
   ],
   "source": [
    "logging.basicConfig(filename='log_file.log', level=logging.INFO)\n",
    "\n",
    "logging.debug('debug message')\n",
    "logging.info('info message')\n",
    "logging.warn('warn message')\n",
    "logging.error('error message')\n",
    "logging.critical('critial message')"
   ]
  },
  {
   "cell_type": "markdown",
   "metadata": {},
   "source": [
    "### 2. Basic Concepts\n",
    "\n",
    "- `Logger`: recorder / logger, interface for program\n",
    "- `Handler`: processor, send log to specific path\n",
    "- `Filter`: provide control of the log\n",
    "- `Formatter`: format of the log"
   ]
  },
  {
   "cell_type": "markdown",
   "metadata": {},
   "source": [
    "#### 2.1 `Logger`\n",
    "\n",
    "`Logger` instance will be default to be `root` logger.\n",
    "\n",
    "```\n",
    "# create logger\n",
    "logger = logging.getLogger(logger_name)\n",
    "\n",
    "# more configuration\n",
    "logger.setLevel(logging.ERROR)\n",
    "logger.addHandler(handler_name)\n",
    "logger.removeHandler(handler_name)\n",
    "```"
   ]
  },
  {
   "cell_type": "markdown",
   "metadata": {},
   "source": [
    "#### 2.2 `Handler`\n",
    "\n",
    "Commonly used are `StreamHandler`, `FileHandler` and `NullHandler`."
   ]
  },
  {
   "cell_type": "markdown",
   "metadata": {},
   "source": [
    "#### 2.3 `Formatter`\n",
    "\n",
    "Set structure and content of the message, default time format is `%Y-%m-%d %H:%M:%S`.\n",
    "\n",
    "```\n",
    "formatter = logging.Formatter(fmt=None, datefmt=None)\n",
    "```"
   ]
  },
  {
   "cell_type": "markdown",
   "metadata": {},
   "source": [
    "### 3. Example"
   ]
  },
  {
   "cell_type": "code",
   "execution_count": 3,
   "metadata": {
    "collapsed": true
   },
   "outputs": [],
   "source": [
    "# create logger\n",
    "logger_name = 'example'\n",
    "logger = logging.getLogger(logger_name)\n",
    "logger.setLevel(logging.DEBUG)\n",
    "\n",
    "# create file handler\n",
    "log_path = './log_file.log'\n",
    "file_handler = logging.FileHandler(log_path)\n",
    "file_handler.setLevel(logging.WARN)\n",
    "\n",
    "# create formatter\n",
    "fmt = '%(asctime)-15s %(levelname)s %(filename)s %(lineno)d %(process)d %(message)s'\n",
    "datefmt = '%a %d %b %Y %H:%M:%S'\n",
    "formatter = logging.Formatter(fmt, datefmt)\n",
    "\n",
    "# add handler and formatter to logger\n",
    "file_handler.setFormatter(formatter)\n",
    "logger.addHandler(file_handler)"
   ]
  }
 ],
 "metadata": {
  "kernelspec": {
   "display_name": "Python 3",
   "language": "python",
   "name": "python3"
  },
  "language_info": {
   "codemirror_mode": {
    "name": "ipython",
    "version": 3
   },
   "file_extension": ".py",
   "mimetype": "text/x-python",
   "name": "python",
   "nbconvert_exporter": "python",
   "pygments_lexer": "ipython3",
   "version": "3.6.3"
  }
 },
 "nbformat": 4,
 "nbformat_minor": 2
}
