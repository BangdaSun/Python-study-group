{
 "cells": [
  {
   "cell_type": "markdown",
   "metadata": {},
   "source": [
    "Python `contextlib` package - Utilities for `with` statement context\n",
    "\n",
    "https://docs.python.org/3.6/library/contextlib.html"
   ]
  },
  {
   "cell_type": "markdown",
   "metadata": {},
   "source": [
    "Demo:\n",
    "    \n",
    "```\n",
    "@contextmanager\n",
    "def func(name):\n",
    "    do something 1\n",
    "    yield\n",
    "\n",
    "with func(name):\n",
    "    do something 2\n",
    "```"
   ]
  },
  {
   "cell_type": "code",
   "execution_count": 1,
   "metadata": {},
   "outputs": [],
   "source": [
    "import time\n",
    "from contextlib import contextmanager"
   ]
  },
  {
   "cell_type": "code",
   "execution_count": 2,
   "metadata": {},
   "outputs": [],
   "source": [
    "@contextmanager\n",
    "def timer(name):\n",
    "    \"\"\"From kaggle @lopuhin\n",
    "    https://www.kaggle.com/lopuhin/mercari-golf-0-3875-cv-in-75-loc-1900-s\n",
    "    \n",
    "    Utility function as timer\n",
    "    \"\"\"\n",
    "    start_time = time.time()\n",
    "    yield\n",
    "    print('[{} done in {:.3f} sec.]'.format(name, time.time() - start_time))"
   ]
  },
  {
   "cell_type": "code",
   "execution_count": 3,
   "metadata": {},
   "outputs": [
    {
     "name": "stdout",
     "output_type": "stream",
     "text": [
      "[Create a list done in 0.000 sec.]\n"
     ]
    }
   ],
   "source": [
    "with timer('Create a list'):\n",
    "    lst = [1, 2, 3]"
   ]
  }
 ],
 "metadata": {
  "kernelspec": {
   "display_name": "Python 3",
   "language": "python",
   "name": "python3"
  },
  "language_info": {
   "codemirror_mode": {
    "name": "ipython",
    "version": 3
   },
   "file_extension": ".py",
   "mimetype": "text/x-python",
   "name": "python",
   "nbconvert_exporter": "python",
   "pygments_lexer": "ipython3",
   "version": "3.6.3"
  }
 },
 "nbformat": 4,
 "nbformat_minor": 2
}
